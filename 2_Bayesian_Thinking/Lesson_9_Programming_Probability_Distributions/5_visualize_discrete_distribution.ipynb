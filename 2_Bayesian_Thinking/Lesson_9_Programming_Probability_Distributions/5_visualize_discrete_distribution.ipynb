{
 "cells": [
  {
   "cell_type": "markdown",
   "metadata": {},
   "source": [
    "### Visualize a discrete probability distribution\n",
    "\n",
    "Fill in the TODOs to get the function working"
   ]
  },
  {
   "cell_type": "code",
   "execution_count": null,
   "metadata": {
    "collapsed": true
   },
   "outputs": [],
   "source": [
    "import matplotlib.pyplot as plt\n",
    "import numpy as np\n",
    "\n",
    "def bar_heights(intervals, probabilities, total_probability):\n",
    "\n",
    "    heights = []\n",
    "    \n",
    "    #TODO: sum the relative probabilities\n",
    "    total_relative_prob = 0\n",
    "    \n",
    "    for i in range(0, len(probabilities)):\n",
    "        \n",
    "        #TODO: Looping through the probabilities list, \n",
    "        #      take one probability at a time and \n",
    "        #      calculate the area of each bar. Think about how you can \n",
    "        #      calculate the area of a bar knowing the total_probability,\n",
    "        #      relative probability, and the sum of the relative probabilities\n",
    "        \n",
    "        bar_area = 0\n",
    "        \n",
    "        # TODO: Calculate the height of the bar and append the value to the\n",
    "        # heights list.Remember that the area of each bar \n",
    "        # is the width of the bar times the height of the bar\n",
    "        heights.append(0)\n",
    "        \n",
    "    return heights"
   ]
  },
  {
   "cell_type": "markdown",
   "metadata": {},
   "source": [
    "Run the next cell to test out your function"
   ]
  },
  {
   "cell_type": "code",
   "execution_count": null,
   "metadata": {
    "collapsed": true
   },
   "outputs": [],
   "source": [
    "print(bar_heights([0, 5, 10, 16, 21, 24], [1, 5, 3, 6, 0.5], 0.05))"
   ]
  },
  {
   "cell_type": "markdown",
   "metadata": {},
   "source": [
    "### Visualize Results\n",
    "\n",
    "Once the bar_heights function is working, here is some code to visualize your results."
   ]
  },
  {
   "cell_type": "code",
   "execution_count": null,
   "metadata": {
    "collapsed": true
   },
   "outputs": [],
   "source": [
    "hour_intervals = [0, 5, 10, 16, 21, 24]\n",
    "probability_intervals = [1, 5, 3, 6, 1/2]\n",
    "accident_probability = 0.05\n",
    "\n",
    "heights = bar_heights(hour_intervals, probability_intervals, accident_probability)\n",
    "freqs = np.array(heights)\n",
    "bins = np.array(hour_intervals)\n",
    "widths = bins[1:] - bins[:-1]\n",
    "freqs = freqs.astype(np.float)\n",
    "\n",
    "widths = bins[1:] - bins[:-1]\n",
    "\n",
    "tick_interval = 1\n",
    "plt.bar(bins[:-1], freqs, width=widths, align='edge', edgecolor='black', alpha=0.5)\n",
    "plt.xlabel('Interval')\n",
    "plt.ylabel('Probability Distribution')\n",
    "plt.title('Probability Distribution')\n",
    "plt.xticks(np.arange(min(bins), max(bins)+1, tick_interval))\n",
    "\n",
    "plt.show()"
   ]
  }
 ],
 "metadata": {
  "kernelspec": {
   "display_name": "Python 3",
   "language": "python",
   "name": "python3"
  },
  "language_info": {
   "codemirror_mode": {
    "name": "ipython",
    "version": 3
   },
   "file_extension": ".py",
   "mimetype": "text/x-python",
   "name": "python",
   "nbconvert_exporter": "python",
   "pygments_lexer": "ipython3",
   "version": "3.6.3"
  }
 },
 "nbformat": 4,
 "nbformat_minor": 2
}
