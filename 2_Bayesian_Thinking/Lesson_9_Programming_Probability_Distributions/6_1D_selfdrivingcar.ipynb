{
 "cells": [
  {
   "cell_type": "markdown",
   "metadata": {},
   "source": [
    "# Robot World 1-D\n",
    "\n",
    "### Skills Learned in this Exercise\n",
    "* working with python lists\n",
    "* using discrete probability distributions to represent location\n",
    "* returning values in a list\n",
    "\n",
    "### Introduction\n",
    "In the nanodegree, you will see robot probability distributions represented two different ways: \n",
    "* with discrete probability distributions\n",
    "* and with continuous probability distributions\n",
    "\n",
    "As a preview of what's to come, you will generally use discrete probability distributions when modeling a car or robot's movement on a grid.\n",
    "\n",
    "You'll see continuous probability distributions when locating objects that are moving around the self-driving car. And sensor measurement uncertainty is generally represented by continuous probability distributions as well.\n",
    "\n",
    "For this exercise, you are going to work with discrete probability distributions. \n",
    "\n",
    "You are going to pretend your robot lives in a one-dimensional world. You will get some intuition into representing discrete probabilities on a 1D grid map. Then in the next exercise, you will figure out how to represent a discrete probability distribution on a 2D map grid."
   ]
  },
  {
   "cell_type": "markdown",
   "metadata": {},
   "source": [
    "\n",
    "## Robot Initialization\n",
    "Imagine you have a robot living in a 1-D world. The robot lives on a grid with nine different spaces. The robot can only move forwards or backwards. If the robot falls off the grid, it will loop back around to the other side.\n",
    "\n",
    "The robot has a map so that it knows there are only nine spaces. But the robot does not know where it is on the map. Here is the 1-D map. Even though the world is represented by squares, the world is 1-D because the robot can only move forwards to the next square or backwards to the square behind it:\n",
    "\n",
    "![1-D Robot World](1D_world.jpg \"1-D Robot World\")\n",
    "\n",
    "When the robot first turns on, the probability that the robot is on any one of these spaces is 1/9; the implication is that the robot has an equal probability of being at any of the spaces on the grid.\n",
    "\n",
    "\n",
    "### Exercise 1 - Initial Probability\n",
    "\n",
    "Now, write a function that receives the number of spaces in the robot's world and then returns the initial probability that the robot is in each space. This is what the robot would do when it first turns on.\n",
    "\n",
    "The function should store the probabilities in a list.\n",
    "\n",
    "So in the example given so far, there would be a list with nine probabilities. And every value in the list would be 1/9. Remember, because the robot does not know where it is at first, the probability of being in any space is the same."
   ]
  },
  {
   "cell_type": "code",
   "execution_count": null,
   "metadata": {
    "collapsed": true
   },
   "outputs": [],
   "source": [
    "import matplotlib.pyplot as plt\n",
    "import numpy as np\n",
    "\n",
    "def initialize_robot(grid_size):\n",
    "    \n",
    "    grid = []\n",
    "    \n",
    "    # TODO: for each space on the map grid, store the initial probability\n",
    "    # in the grid list. For example, if there are eight spaces on the grid,\n",
    "    # the grid list should have eight entries where each entry represents\n",
    "    # the initial probability of the robot being in that space.\n",
    "    \n",
    "    return grid"
   ]
  },
  {
   "cell_type": "markdown",
   "metadata": {},
   "source": [
    "Run the cell below to make sure that your function prints out the right results."
   ]
  },
  {
   "cell_type": "code",
   "execution_count": null,
   "metadata": {},
   "outputs": [],
   "source": [
    "# Result should be a list with 9 elements all having value 1/9\n",
    "print(initialize_robot(9))\n",
    "\n",
    "# Result should be a list with 4 elements all having value 1/4\n",
    "print(initialize_robot(4))\n",
    "\n",
    "# Result should be a list with 14 elements all having value 1/14\n",
    "print(initialize_robot(14))"
   ]
  },
  {
   "cell_type": "markdown",
   "metadata": {},
   "source": [
    "### Exercise 2 - Grid Probability\n",
    "\n",
    "Now, write a function called `grid_probability` that outputs the probability that the robot is at a specific point on the grid. The input to this function will be:\n",
    "\n",
    "* the output of the previous function (ie a list representing a 1-D map of probabilities)\n",
    "* the grid number where you want to know the probability\n",
    "\n",
    "So if you wanted to know the current probability that the robot is at the fifth tile on the grid, you would called the function like:\n",
    "\n",
    "`grid_probability(my_grid, 4)`.\n",
    "\n",
    "The reason you would call `grid_probability(my_grid, 4)` is because of how lists work in python. The first element in a list is accessed with [0] rather than [1]. \n"
   ]
  },
  {
   "cell_type": "code",
   "execution_count": null,
   "metadata": {
    "collapsed": true
   },
   "outputs": [],
   "source": [
    "def grid_probability(grid, position):\n",
    "    \n",
    "    ##### \n",
    "    # TODO: Use an if statement to make sure that the position input\n",
    "    # does not go beyond the size of the list. Say the list has five elements\n",
    "    # and your code tries to access grid[5] or grid[6]. That will lead to an \n",
    "    # error.If the position input is legitimate, then return the probability\n",
    "    # stored at that position. If the position input is not legitimate, then\n",
    "    # return None\n",
    "    #####\n",
    "    \n",
    "    return \n"
   ]
  },
  {
   "cell_type": "markdown",
   "metadata": {},
   "source": [
    "Run the cell below to test the results of your code"
   ]
  },
  {
   "cell_type": "code",
   "execution_count": null,
   "metadata": {},
   "outputs": [],
   "source": [
    "print(grid_probability([.1, .1, .2, .1, .5], 2))\n",
    "# will return 0.2\n",
    "    \n",
    "print(grid_probability([.1, .1, .2, .1, .5], 7))\n",
    "# will return None"
   ]
  },
  {
   "cell_type": "markdown",
   "metadata": {},
   "source": [
    "### Exercise 3 - Visualize Robot World\n",
    "Next, write a function that outputs a bar chart showing the probabilities of each grid space. As you have seen previously, the area of a bar in general represents the probability. In this simplified 1-D world, every grid space is exactly the same size. So in your bar chart, you can assume that the width of each bar equals 1 and the y-axis will represent the actual probability.\n",
    "\n",
    "The input to the function is a list with the probability that the robot is at each point on the grid.\n",
    "\n",
    "Your result should look something like this:\n",
    "\n",
    "![Uniform Probability Distribution](uniform_prob.png \"Uniform Probability Distribution\")"
   ]
  },
  {
   "cell_type": "code",
   "execution_count": null,
   "metadata": {
    "collapsed": true
   },
   "outputs": [],
   "source": [
    "import matplotlib.pyplot as plt\n",
    "import numpy as np\n",
    "\n",
    "def output_map(grid):\n",
    "    \n",
    "    ###\n",
    "    # TODO: make a bar chart to plot the probability at each point on the grid.\n",
    "    # Start by creating a list in the variable x_labels to represent each grid point.\n",
    "    # For example, if the grid variable has length 5, x_labels would contain\n",
    "    # a list [0, 1, 2, 3, 4].\n",
    "    ###\n",
    "    \n",
    "    x_labels = range(len(grid))\n",
    "    \n",
    "    ###\n",
    "    # TODO: output a bar chart of the results. Use\n",
    "    # plt.bar(x_data, y_data, width=0.7, edgecolor='black') and change\n",
    "    # x_data and y_data to the appropriate variable names\n",
    "    # Remember that the grid has the probability values you will need\n",
    "    \n",
    "    # Once you have coded plt.bar() correctly, the rest of this code\n",
    "    # will put axis labels and titles on your visualization.\n",
    "    plt.xlabel('Grid Space')\n",
    "    plt.ylabel('Probability')\n",
    "    plt.title('Probability of the robot being at each space on the grid')\n",
    "    plt.xticks(np.arange(min(x_labels), max(x_labels)+1, 1))\n",
    "    plt.show()"
   ]
  },
  {
   "cell_type": "code",
   "execution_count": null,
   "metadata": {},
   "outputs": [],
   "source": [
    "output_map([.2, .2, .2, .2, .2])"
   ]
  },
  {
   "cell_type": "markdown",
   "metadata": {},
   "source": [
    "### Exercise 4 - Updating Probabilities\n",
    "\n",
    "Now there's just one more thing to do. As the robot moves around and senses, it will update its belief about where it is on the map. You'll learn about this in the localization lesson that comes up next. In this exercise, you don't need to understand how the robot figures out where it is.\n",
    "\n",
    "For now, write a function that updates the robot's belief about where it is. The function has these two inputs:\n",
    "\n",
    "* a list containing the probabilities that the robot is at each spot on the map-grid\n",
    "* a list of lists. Each element in the list has two entries: the first entry is a point on the map grid, and the second entry is the new probability.\n",
    "\n",
    "Here is some example input:\n",
    "\n",
    "The robot is initialized with a five-grid map, so the probabilities are in a list\n",
    "\n",
    "* robot_grid = [0.2, 0.2, 0.2, 0.2, 0.2]\n",
    "\n",
    "The robot figures out that it actually has a 0.4 probability of being at the first spot robot_grid[0] and 0.15 probability of being at all the other spots. So the second input looks like this\n",
    "\n",
    "* [[0, .4], [1, 0.15], [2, 0.15], [3, 0.15], [4, 0.15]]\n",
    "\n",
    "The output of the function would be the new probabilities:\n",
    "\n",
    "* [0.4, 0.15, 0.15, 0.15, 0.15]\n",
    "\n",
    "A for loop might be helpful for solving this exercise.\n"
   ]
  },
  {
   "cell_type": "code",
   "execution_count": null,
   "metadata": {
    "collapsed": true
   },
   "outputs": [],
   "source": [
    "def update_probabilities(grid, updates):\n",
    "    \n",
    "    \n",
    "    ###\n",
    "    # TODO: write a for loop that goes through the updates list and updates\n",
    "    # the probabilities in the grid variable\n",
    "    ###\n",
    "    \n",
    "        ### TODO: update the probabilities inside the grid list\n",
    "    return "
   ]
  },
  {
   "cell_type": "code",
   "execution_count": null,
   "metadata": {
    "collapsed": true
   },
   "outputs": [],
   "source": [
    "print(update_probabilities([0.2, 0.2, 0.2, 0.2, 0.2], [[0, .4], [1, 0.15], [2, 0.15], [3, 0.15], [4, 0.15]]))\n",
    "# output should be [0.4, 0.15, 0.15, 0.15, 0.15]\n",
    "\n",
    "print(update_probabilities([0.2, 0.2, 0.2, 0.2, 0.2], [[0, .25], [4, 0.15]]))\n",
    "# output should be [0.25, 0.2, 0.2, 0.2, 0.15]"
   ]
  }
 ],
 "metadata": {
  "kernelspec": {
   "display_name": "Python 3",
   "language": "python",
   "name": "python3"
  },
  "language_info": {
   "codemirror_mode": {
    "name": "ipython",
    "version": 3
   },
   "file_extension": ".py",
   "mimetype": "text/x-python",
   "name": "python",
   "nbconvert_exporter": "python",
   "pygments_lexer": "ipython3",
   "version": "3.6.3"
  }
 },
 "nbformat": 4,
 "nbformat_minor": 2
}
