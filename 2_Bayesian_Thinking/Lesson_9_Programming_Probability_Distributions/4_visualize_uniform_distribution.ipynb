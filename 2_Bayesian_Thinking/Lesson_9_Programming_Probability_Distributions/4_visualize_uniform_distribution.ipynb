{
 "cells": [
  {
   "cell_type": "markdown",
   "metadata": {},
   "source": [
    "### Visualizing Uniform Probability Distributions"
   ]
  },
  {
   "cell_type": "code",
   "execution_count": null,
   "metadata": {
    "collapsed": true
   },
   "outputs": [],
   "source": [
    "import matplotlib.pyplot as plt\n",
    "import matplotlib.ticker as plticker\n",
    "import numpy as np\n",
    "\n",
    "def plot_uniform(x_minimum, x_maximum, tick_interval):\n",
    "    \n",
    "    x = range(x_minimum, x_maximum + 1)\n",
    "    \n",
    "    # TODO: Using x_maximum and x_minimum, calculate the height of the\n",
    "    # rectangle that represents the uniform probability distribution\n",
    "    # Recall that the rectangle area should be 1 for a uniform continuous\n",
    "    # distribution \n",
    "    y = 0\n",
    "    \n",
    "    plt.bar(x_minimum, y, bottom=0, width= (x_maximum - x_minimum), align='edge', alpha=0.5)\n",
    "    plt.xlabel('Degrees')\n",
    "    plt.ylabel('Probability Distribution')\n",
    "    plt.title('Uniform Probability Distribution \\n for a Spinning Bottle')\n",
    "    plt.xticks(np.arange(min(x), max(x)+1, tick_interval))\n",
    "    plt.show()"
   ]
  },
  {
   "cell_type": "markdown",
   "metadata": {},
   "source": [
    "Run the code cell below to see the results. "
   ]
  },
  {
   "cell_type": "code",
   "execution_count": null,
   "metadata": {
    "collapsed": true
   },
   "outputs": [],
   "source": [
    "plot_uniform(5, 10, 1)"
   ]
  }
 ],
 "metadata": {
  "kernelspec": {
   "display_name": "Python 3",
   "language": "python",
   "name": "python3"
  },
  "language_info": {
   "codemirror_mode": {
    "name": "ipython",
    "version": 3
   },
   "file_extension": ".py",
   "mimetype": "text/x-python",
   "name": "python",
   "nbconvert_exporter": "python",
   "pygments_lexer": "ipython3",
   "version": "3.6.3"
  }
 },
 "nbformat": 4,
 "nbformat_minor": 2
}
