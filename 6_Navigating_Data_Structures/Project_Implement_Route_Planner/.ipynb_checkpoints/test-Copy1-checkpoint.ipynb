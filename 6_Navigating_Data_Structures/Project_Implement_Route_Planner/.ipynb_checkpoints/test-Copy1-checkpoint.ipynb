{
 "cells": [
  {
   "cell_type": "code",
   "execution_count": 1,
   "metadata": {
    "collapsed": true
   },
   "outputs": [],
   "source": [
    "import math"
   ]
  },
  {
   "cell_type": "code",
   "execution_count": 2,
   "metadata": {
    "collapsed": true
   },
   "outputs": [],
   "source": [
    "M_roads = [[36, 34, 31, 28, 17],\n",
    " [35, 31, 27, 26, 25, 20, 18, 17, 15, 6],\n",
    " [39, 36, 21, 19, 9, 7, 4],\n",
    " [35, 20, 15, 11, 6],\n",
    " [39, 36, 21, 19, 9, 7, 2],\n",
    " [32, 16, 14],\n",
    " [35, 20, 15, 11, 1, 3],\n",
    " [39, 36, 22, 21, 19, 9, 2, 4],\n",
    " [33, 30, 14],\n",
    " [36, 21, 19, 2, 4, 7],\n",
    " [31, 27, 26, 25, 24, 18, 17, 13],\n",
    " [35, 20, 15, 3, 6],\n",
    " [37, 34, 31, 28, 22, 17],\n",
    " [27, 24, 18, 10],\n",
    " [33, 30, 16, 5, 8],\n",
    " [35, 31, 26, 25, 20, 17, 1, 3, 6, 11],\n",
    " [37, 30, 5, 14],\n",
    " [34, 31, 28, 26, 25, 18, 0, 1, 10, 12, 15],\n",
    " [31, 27, 26, 25, 24, 1, 10, 13, 17],\n",
    " [21, 2, 4, 7, 9],\n",
    " [35, 26, 1, 3, 6, 11, 15],\n",
    " [2, 4, 7, 9, 19],\n",
    " [39, 37, 29, 7, 12],\n",
    " [38, 32, 29],\n",
    " [27, 10, 13, 18],\n",
    " [34, 31, 27, 26, 1, 10, 15, 17, 18],\n",
    " [34, 31, 27, 1, 10, 15, 17, 18, 20, 25],\n",
    " [31, 1, 10, 13, 18, 24, 25, 26],\n",
    " [39, 36, 34, 31, 0, 12, 17],\n",
    " [38, 37, 32, 22, 23],\n",
    " [33, 8, 14, 16],\n",
    " [34, 0, 1, 10, 12, 15, 17, 18, 25, 26, 27, 28],\n",
    " [38, 5, 23, 29],\n",
    " [8, 14, 30],\n",
    " [0, 12, 17, 25, 26, 28, 31],\n",
    " [1, 3, 6, 11, 15, 20],\n",
    " [39, 0, 2, 4, 7, 9, 28],\n",
    " [12, 16, 22, 29],\n",
    " [23, 29, 32],\n",
    " [2, 4, 7, 22, 28, 36]]"
   ]
  },
  {
   "cell_type": "code",
   "execution_count": 3,
   "metadata": {
    "collapsed": true
   },
   "outputs": [],
   "source": [
    "M_intersections = {0: [0.7801603911549438, 0.49474860768712914],\n",
    " 1: [0.5249831588690298, 0.14953665513987202],\n",
    " 2: [0.8085335344099086, 0.7696330846542071],\n",
    " 3: [0.2599134798656856, 0.14485659826020547],\n",
    " 4: [0.7353838928272886, 0.8089961609345658],\n",
    " 5: [0.09088671576431506, 0.7222846879290787],\n",
    " 6: [0.313999018186756, 0.01876171413125327],\n",
    " 7: [0.6824813442515916, 0.8016111783687677],\n",
    " 8: [0.20128789391122526, 0.43196344222361227],\n",
    " 9: [0.8551947714242674, 0.9011339078096633],\n",
    " 10: [0.7581736589784409, 0.24026772497187532],\n",
    " 11: [0.25311953895059136, 0.10321622277398101],\n",
    " 12: [0.4813859169876731, 0.5006237737207431],\n",
    " 13: [0.9112422509614865, 0.1839028760606296],\n",
    " 14: [0.04580558670435442, 0.5886703168399895],\n",
    " 15: [0.4582523173083307, 0.1735506267461867],\n",
    " 16: [0.12939557977525573, 0.690016328140396],\n",
    " 17: [0.607698913404794, 0.362322730884702],\n",
    " 18: [0.719569201584275, 0.13985272363426526],\n",
    " 19: [0.8860336256842246, 0.891868301175821],\n",
    " 20: [0.4238357358399233, 0.026771817842421997],\n",
    " 21: [0.8252497121120052, 0.9532681441921305],\n",
    " 22: [0.47415009287034726, 0.7353428557575755],\n",
    " 23: [0.26253385360950576, 0.9768234503830939],\n",
    " 24: [0.9363713903322148, 0.13022993020357043],\n",
    " 25: [0.6243437191127235, 0.21665962402659544],\n",
    " 26: [0.5572917679006295, 0.2083567880838434],\n",
    " 27: [0.7482655725962591, 0.12631654071213483],\n",
    " 28: [0.6435799740880603, 0.5488515965193208],\n",
    " 29: [0.34509802713919313, 0.8800306496459869],\n",
    " 30: [0.021423673670808885, 0.4666482714834408],\n",
    " 31: [0.640952694324525, 0.3232711412508066],\n",
    " 32: [0.17440205342790494, 0.9528527425842739],\n",
    " 33: [0.1332965908314021, 0.3996510641743197],\n",
    " 34: [0.583993110207876, 0.42704536740474663],\n",
    " 35: [0.3073865727705063, 0.09186645974288632],\n",
    " 36: [0.740625863119245, 0.68128520136847],\n",
    " 37: [0.3345284735051981, 0.6569436279895382],\n",
    " 38: [0.17972981733780147, 0.999395685828547],\n",
    " 39: [0.6315322816286787, 0.7311657634689946]}"
   ]
  },
  {
   "cell_type": "code",
   "execution_count": 4,
   "metadata": {
    "collapsed": true
   },
   "outputs": [],
   "source": [
    "## initialise\n",
    "## For start: 8 Goal:24 \n",
    "## Your path: [8, 33, 30, 14, 16, 37, 12, 34, 31, 10, 24] \n",
    "##Correct:   [8, 14, 16, 37, 12, 17, 10, 24]\n",
    "\n",
    "frontier = set()\n",
    "known = set()\n",
    "path = []\n",
    "start = 8\n",
    "goal = 24"
   ]
  },
  {
   "cell_type": "code",
   "execution_count": 5,
   "metadata": {
    "collapsed": true
   },
   "outputs": [],
   "source": [
    "## calculate distance between two nodes\n",
    "def distance(i,j):\n",
    "\treturn math.sqrt((M_intersections[i][0] - M_intersections[j][0])**2 + (M_intersections[i][1] - M_intersections[j][1])**2)\n"
   ]
  },
  {
   "cell_type": "code",
   "execution_count": 6,
   "metadata": {},
   "outputs": [
    {
     "data": {
      "text/plain": [
       "0.2763449129903259"
      ]
     },
     "execution_count": 6,
     "metadata": {},
     "output_type": "execute_result"
    }
   ],
   "source": [
    "## test distance\n",
    "distance(0, 2)"
   ]
  },
  {
   "cell_type": "code",
   "execution_count": 19,
   "metadata": {},
   "outputs": [
    {
     "name": "stdout",
     "output_type": "stream",
     "text": [
      "6.349974862357661\n"
     ]
    }
   ],
   "source": [
    "p1 = [8, 33, 30, 14, 16, 37, 12, 34, 31, 10, 24] \n",
    "d1 = 0\n",
    "for i in p1[1:]:\n",
    "    d1 += distance(i, i-1)\n",
    "print (d1)"
   ]
  },
  {
   "cell_type": "code",
   "execution_count": 20,
   "metadata": {},
   "outputs": [
    {
     "name": "stdout",
     "output_type": "stream",
     "text": [
      "4.762583114752802\n"
     ]
    }
   ],
   "source": [
    "p2 = [8, 14, 16, 37, 12, 17, 10, 24] \n",
    "d2 = 0\n",
    "for i in p2[1:]:\n",
    "    d2 += distance(i, i-1)\n",
    "print (d2)"
   ]
  },
  {
   "cell_type": "code",
   "execution_count": 7,
   "metadata": {
    "collapsed": true
   },
   "outputs": [],
   "source": [
    "node = {}\n",
    "node[start] = {'g': 0, \n",
    "\t\t\t\t'h': distance(start, goal), \n",
    "\t\t\t\t'f': 0 + distance(start, goal), \n",
    "\t\t\t\t'parent': None }"
   ]
  },
  {
   "cell_type": "code",
   "execution_count": 8,
   "metadata": {},
   "outputs": [
    {
     "data": {
      "text/plain": [
       "{8: {'f': 0.7946010690821248, 'g': 0, 'h': 0.7946010690821248, 'parent': None}}"
      ]
     },
     "execution_count": 8,
     "metadata": {},
     "output_type": "execute_result"
    }
   ],
   "source": [
    "# test node defination\n",
    "node"
   ]
  },
  {
   "cell_type": "code",
   "execution_count": 9,
   "metadata": {
    "collapsed": true
   },
   "outputs": [],
   "source": [
    "frontier.add(start)"
   ]
  },
  {
   "cell_type": "code",
   "execution_count": 10,
   "metadata": {},
   "outputs": [
    {
     "data": {
      "text/plain": [
       "{8}"
      ]
     },
     "execution_count": 10,
     "metadata": {},
     "output_type": "execute_result"
    }
   ],
   "source": [
    "frontier"
   ]
  },
  {
   "cell_type": "code",
   "execution_count": 11,
   "metadata": {
    "collapsed": true
   },
   "outputs": [],
   "source": [
    "## choose the node with minimal f in frontier\n",
    "def choose_search_node(frontier):\n",
    "\t## get the f values of i in frontier\n",
    "\tf_frontier = {}\n",
    "\tfor i in frontier:\n",
    "\t\tf_frontier[i] = node[i]['f']\n",
    "\t## return the node number that has minimal f\n",
    "\treturn min(f_frontier, key=f_frontier.get)"
   ]
  },
  {
   "cell_type": "code",
   "execution_count": 12,
   "metadata": {},
   "outputs": [
    {
     "data": {
      "text/plain": [
       "8"
      ]
     },
     "execution_count": 12,
     "metadata": {},
     "output_type": "execute_result"
    }
   ],
   "source": [
    "# test choose_search_node\n",
    "choose_search_node(frontier)"
   ]
  },
  {
   "cell_type": "code",
   "execution_count": 13,
   "metadata": {
    "collapsed": true
   },
   "outputs": [],
   "source": [
    "## search the neighbors of node i with minimal f, updating g and f of it's neighbors\n",
    "## adding neighbors to frontier, remove i from frontier to known\n",
    "def search(i):\n",
    "\tfor j in M_roads[i]:\n",
    "\t\t## choose neighbors that is not in known\n",
    "\t\tif j not in known:\n",
    "\t\t\t## initialize and update node j\n",
    "\t\t\tnode[j] = {'g': node[i]['g'] + distance(i, j), \n",
    "\t\t\t\t'h': distance(j, goal), \n",
    "\t\t\t\t'f': node[i]['g'] + distance(i, j) + distance(j, goal), \n",
    "\t\t\t\t'parent': i }\n",
    "\n",
    "\t\t\t## add j to frontier\n",
    "\t\t\tfrontier.add(j)\n",
    "\n",
    "\t## move i from frontier to known\n",
    "\tfrontier.remove(i)\n",
    "\tknown.add(i)\n",
    "\n",
    "\treturn frontier, known"
   ]
  },
  {
   "cell_type": "code",
   "execution_count": 15,
   "metadata": {},
   "outputs": [
    {
     "data": {
      "text/plain": [
       "({14, 30, 33}, {8})"
      ]
     },
     "execution_count": 15,
     "metadata": {},
     "output_type": "execute_result"
    }
   ],
   "source": [
    "# test search function\n",
    "search(8)"
   ]
  },
  {
   "cell_type": "code",
   "execution_count": 16,
   "metadata": {},
   "outputs": [
    {
     "data": {
      "text/plain": [
       "{'f': 1.2223889665289296,\n",
       " 'g': 0.220752785727394,\n",
       " 'h': 1.0016361808015355,\n",
       " 'parent': 8}"
      ]
     },
     "execution_count": 16,
     "metadata": {},
     "output_type": "execute_result"
    }
   ],
   "source": [
    "node[14]"
   ]
  },
  {
   "cell_type": "code",
   "execution_count": 21,
   "metadata": {},
   "outputs": [
    {
     "name": "stdout",
     "output_type": "stream",
     "text": [
      "0.220752785727394\n"
     ]
    }
   ],
   "source": [
    "print(distance(8, 14))"
   ]
  },
  {
   "cell_type": "code",
   "execution_count": 17,
   "metadata": {},
   "outputs": [
    {
     "data": {
      "text/plain": [
       "{'f': 1.1580147043750393,\n",
       " 'g': 0.18317798749706926,\n",
       " 'h': 0.9748367168779701,\n",
       " 'parent': 8}"
      ]
     },
     "execution_count": 17,
     "metadata": {},
     "output_type": "execute_result"
    }
   ],
   "source": [
    "node[30]"
   ]
  },
  {
   "cell_type": "code",
   "execution_count": 18,
   "metadata": {},
   "outputs": [
    {
     "data": {
      "text/plain": [
       "{'f': 0.9223425438369931,\n",
       " 'g': 0.07527886203771131,\n",
       " 'h': 0.8470636817992818,\n",
       " 'parent': 8}"
      ]
     },
     "execution_count": 18,
     "metadata": {},
     "output_type": "execute_result"
    }
   ],
   "source": [
    "node[33]"
   ]
  },
  {
   "cell_type": "code",
   "execution_count": null,
   "metadata": {
    "collapsed": true
   },
   "outputs": [],
   "source": [
    "while frontier != ():\n",
    "\t## choose search node in frontier\n",
    "\ti = choose_search_node(frontier)\n",
    "\n",
    "\t## search in i's neighbors, updating frontier and known\n",
    "\tfrontier, known = search(i)\n",
    "\n",
    "\t## if goal is in frontier, and goal has the minimal f, then the path is found, break the loop\n",
    "\tif goal in known:\n",
    "\t\tbreak"
   ]
  },
  {
   "cell_type": "code",
   "execution_count": null,
   "metadata": {},
   "outputs": [],
   "source": [
    "node[goal]['parent']"
   ]
  },
  {
   "cell_type": "code",
   "execution_count": null,
   "metadata": {},
   "outputs": [],
   "source": [
    "frontier"
   ]
  },
  {
   "cell_type": "code",
   "execution_count": null,
   "metadata": {},
   "outputs": [],
   "source": [
    "known"
   ]
  },
  {
   "cell_type": "code",
   "execution_count": null,
   "metadata": {
    "collapsed": true
   },
   "outputs": [],
   "source": [
    "## if find a shortest path to goal, then trace back to start, return the path\n",
    "if goal in known:\n",
    "\ti = goal\n",
    "\twhile i:\n",
    "\t\tpath.append(i)\n",
    "\t\ti = node[i]['parent']\n",
    "\tpath.reverse()\n"
   ]
  },
  {
   "cell_type": "code",
   "execution_count": null,
   "metadata": {},
   "outputs": [],
   "source": [
    "path"
   ]
  }
 ],
 "metadata": {
  "kernelspec": {
   "display_name": "Python 3",
   "language": "python",
   "name": "python3"
  },
  "language_info": {
   "codemirror_mode": {
    "name": "ipython",
    "version": 3
   },
   "file_extension": ".py",
   "mimetype": "text/x-python",
   "name": "python",
   "nbconvert_exporter": "python",
   "pygments_lexer": "ipython3",
   "version": "3.6.3"
  }
 },
 "nbformat": 4,
 "nbformat_minor": 2
}
