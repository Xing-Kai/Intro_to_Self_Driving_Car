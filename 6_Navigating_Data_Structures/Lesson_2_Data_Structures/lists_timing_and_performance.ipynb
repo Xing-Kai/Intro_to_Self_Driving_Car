{
 "cells": [
  {
   "cell_type": "code",
   "execution_count": 1,
   "metadata": {},
   "outputs": [],
   "source": [
    "import time\n",
    "import random\n",
    "from matplotlib import pyplot as plt"
   ]
  },
  {
   "cell_type": "markdown",
   "metadata": {},
   "source": [
    "# Lists, Timing, and Performance\n",
    "\n",
    "In this notebook we're going to explore the performance of lists. Specifically, we're going to see how the time it takes to perform a **membership check** on a list is affected by various properties of the list. A \"membership check\" is what you do when you write code like:\n",
    "\n",
    "```python\n",
    "my_list = [1,2,3]\n",
    "if 3 in my_list:\n",
    "    # we just checked my_list for membership\n",
    "    # of the element 3 \n",
    "```"
   ]
  },
  {
   "cell_type": "markdown",
   "metadata": {},
   "source": [
    "Let's explore the following two questions in code:\n",
    "\n",
    "1. When an element IS in a list, does the location of that element (near the beginning vs near the end) impact the time it takes to perform a membership check?\n",
    "\n",
    "2. When an element IS NOT in a list, does the size of the list impact the time it takes to perform a membership check?\n",
    "\n",
    "What we find will motivate a more in depth discussion about the tradeoffs between lists and other data structures."
   ]
  },
  {
   "cell_type": "code",
   "execution_count": 2,
   "metadata": {},
   "outputs": [
    {
     "data": {
      "text/plain": [
       "True"
      ]
     },
     "execution_count": 2,
     "metadata": {},
     "output_type": "execute_result"
    }
   ],
   "source": [
    "# before we continue, make sure you understand \n",
    "# what we mean by \"testing for membership\" in a list. \n",
    "\n",
    "L = [1,2,3]\n",
    "2 in L"
   ]
  },
  {
   "cell_type": "code",
   "execution_count": 3,
   "metadata": {},
   "outputs": [
    {
     "data": {
      "text/plain": [
       "False"
      ]
     },
     "execution_count": 3,
     "metadata": {},
     "output_type": "execute_result"
    }
   ],
   "source": [
    "L = [1,2,3]\n",
    "4 in L"
   ]
  },
  {
   "cell_type": "markdown",
   "metadata": {},
   "source": [
    "## Question 1\n",
    "> Does position in list impact the time it takes to perform a membership test?\n",
    "\n",
    "First we're going to need to figure out how to do these timings..."
   ]
  },
  {
   "cell_type": "code",
   "execution_count": 4,
   "metadata": {},
   "outputs": [
    {
     "name": "stdout",
     "output_type": "stream",
     "text": [
      "[0, 1, 2, 3, 4, 5, 6, 7, 8, 9]\n"
     ]
    }
   ],
   "source": [
    "# let's make a small list to begin with\n",
    "L = list(range(10))\n",
    "print(L)"
   ]
  },
  {
   "cell_type": "code",
   "execution_count": 19,
   "metadata": {},
   "outputs": [
    {
     "name": "stdout",
     "output_type": "stream",
     "text": [
      "0.06100000000008876 milliseconds to find 0 in list\n"
     ]
    }
   ],
   "source": [
    "# now let's time how long it takes to check for \n",
    "# membership of the very first element (0)...\n",
    "\n",
    "element = 0\n",
    "\n",
    "start_time = time.clock()\n",
    "\n",
    "element in L     # this line of code looks weird \n",
    "                 # but it's valid python!\n",
    "\n",
    "end_time =   time.clock()\n",
    "\n",
    "# make sure you understand why the following code makes sense.\n",
    "duration_in_seconds = end_time - start_time\n",
    "milliseconds = duration_in_seconds * 1000\n",
    "\n",
    "print(milliseconds, \"milliseconds to find 0 in list\")"
   ]
  },
  {
   "cell_type": "code",
   "execution_count": 20,
   "metadata": {},
   "outputs": [
    {
     "name": "stdout",
     "output_type": "stream",
     "text": [
      "on average, it took 0.010904000000000025 ms per membership test\n"
     ]
    }
   ],
   "source": [
    "# Run the above code a few times. You should notice that the time\n",
    "# can change quite a bit. What we actually want is to conduct\n",
    "# this experiment a bunch of times and find the average. \n",
    "\n",
    "\n",
    "L = list(range(1000)) # use a bigger list\n",
    "element = 500         # look in the middle of the list\n",
    "num_trials = 1000     # perform experiment many times\n",
    "\n",
    "start = time.clock()\n",
    "for _ in range(num_trials):\n",
    "    element in L\n",
    "end = time.clock()\n",
    "secs = end-start\n",
    "millis = secs * 1000\n",
    "millis_per_check = millis/num_trials\n",
    "print(\"on average, it took\", millis_per_check, \"ms per membership test\")"
   ]
  },
  {
   "cell_type": "code",
   "execution_count": 21,
   "metadata": {},
   "outputs": [
    {
     "name": "stdout",
     "output_type": "stream",
     "text": [
      "on average, it took 0.008849999999993585 ms per membership test\n"
     ]
    }
   ],
   "source": [
    "# That's a useful bit of code! \n",
    "# Let's generalize it and turn it into a reusable function\n",
    "\n",
    "def avg_millis_to_check_el_in_list(element, target_list, N=20):\n",
    "    start = time.clock()\n",
    "    for _ in range(N):\n",
    "        element in target_list\n",
    "    end = time.clock()\n",
    "    return (end-start)*1000 / N\n",
    "\n",
    "avg_millis = avg_millis_to_check_el_in_list(500, list(range(1000)))\n",
    "print(\"on average, it took\", avg_millis, \"ms per membership test\")"
   ]
  },
  {
   "cell_type": "markdown",
   "metadata": {},
   "source": [
    "### Note - Take your time!\n",
    "Make sure you take your time going through the next few cells. Try to really read through the code **before** you run it and try to make a prediction about what will happen..."
   ]
  },
  {
   "cell_type": "code",
   "execution_count": 22,
   "metadata": {},
   "outputs": [
    {
     "name": "stdout",
     "output_type": "stream",
     "text": [
      "T_beginning:  0.016399999999994197\n",
      "T_middle:     8.249799999999997\n",
      "T_end:        16.382849999999994\n"
     ]
    }
   ],
   "source": [
    "# now we can compare time to lookup low numbers (near the \n",
    "# beginning of the list) vs higher numbers (near the end).\n",
    "\n",
    "# Let's use a really big list this time\n",
    "list_size = 1000000\n",
    "L = list(range(list_size))\n",
    "\n",
    "# Now make three separate timings...\n",
    "T_beginning = avg_millis_to_check_el_in_list(1000, L)\n",
    "T_middle    = avg_millis_to_check_el_in_list(500000, L)\n",
    "T_end       = avg_millis_to_check_el_in_list(999999, L)\n",
    "\n",
    "print(\"T_beginning: \", T_beginning)\n",
    "print(\"T_middle:    \", T_middle)\n",
    "print(\"T_end:       \", T_end)"
   ]
  },
  {
   "cell_type": "markdown",
   "metadata": {},
   "source": [
    "Interesting! There's clearly a relationship. Let's see if we can dig deeper though. A [scatter plot](https://matplotlib.org/devdocs/api/_as_gen/matplotlib.pyplot.scatter.html) showing average time vs position in list might help us out here."
   ]
  },
  {
   "cell_type": "code",
   "execution_count": 23,
   "metadata": {},
   "outputs": [
    {
     "name": "stdout",
     "output_type": "stream",
     "text": [
      "positions checked: [0, 10000, 20000, 30000, 40000, 50000, 60000, 70000, 80000, 90000]\n",
      "average millis:    [0.00029999999999752447, 0.16260000000000163, 0.3286000000000011, 0.4685999999999968, 0.6166000000000005, 0.7811500000000082, 0.9347499999999842, 1.08204999999999, 1.266250000000002, 1.4046500000000073]\n"
     ]
    }
   ],
   "source": [
    "# Making a scatter plot of position in list (X-axis)\n",
    "# vs. average time to find element (y-axis)\n",
    "\n",
    "list_size = 100000\n",
    "L = list(range(list_size))\n",
    "\n",
    "# check between start and end in increments of 10000. This will\n",
    "# be our X axis too!\n",
    "positions = list(range(0, list_size, 10000))\n",
    "\n",
    "# use list comprehension to generate Y-axis data!\n",
    "millis = [avg_millis_to_check_el_in_list(pos, L) for pos in positions]\n",
    "\n",
    "# first, let's look at the raw data\n",
    "print(\"positions checked:\", positions)\n",
    "print(\"average millis:   \", millis)"
   ]
  },
  {
   "cell_type": "code",
   "execution_count": 24,
   "metadata": {},
   "outputs": [
    {
     "data": {
      "image/png": "[encoded data removed]",
      "text/plain": [
       "<matplotlib.figure.Figure at 0x7f12dda4da58>"
      ]
     },
     "metadata": {},
     "output_type": "display_data"
    }
   ],
   "source": [
    "# now let's make the scatter plot!\n",
    "X = positions \n",
    "Y = millis\n",
    "plt.scatter(X, Y)\n",
    "plt.title(\"Membership Test Time\\nvs Position in List\")\n",
    "plt.xlabel(\"Position in List\")\n",
    "plt.ylabel(\"Average # of millis / test\")\n",
    "plt.show()"
   ]
  },
  {
   "cell_type": "markdown",
   "metadata": {},
   "source": [
    "### Answer to Question 1\n",
    "Yes! Where an element is in a list **definitely** impacts how long it takes to discover that the element exists in the list!\n",
    "\n",
    "Elements near the beginning of a list are found very quickly. Elements near the end of the list take longer. "
   ]
  },
  {
   "cell_type": "markdown",
   "metadata": {
    "collapsed": true
   },
   "source": [
    "--------"
   ]
  },
  {
   "cell_type": "markdown",
   "metadata": {},
   "source": [
    "## Question 2 \n",
    "> Does the size of a list impact the time it takes to test for membership of elements when they are NOT in the list?"
   ]
  },
  {
   "cell_type": "code",
   "execution_count": 25,
   "metadata": {},
   "outputs": [],
   "source": [
    "# Let's jump right into writing a function\n",
    "\n",
    "def avg_millis_to_test_for_non_existent_el(list_size, num_trials=20):\n",
    "    # 1. prepare list and nonexistent element\n",
    "    L = list(range(list_size))\n",
    "    element = -1\n",
    "    \n",
    "    # 2. start the timer\n",
    "    start = time.clock()\n",
    "    \n",
    "    # 3. repeat membership test num_trials times\n",
    "    for _ in range(num_trials):\n",
    "        element in L\n",
    "    \n",
    "    # 4. stop the timer\n",
    "    end = time.clock()\n",
    "    \n",
    "    # 5. do the math and return the result\n",
    "    millis_per_test = (end-start) * 1000 / num_trials\n",
    "    return millis_per_test"
   ]
  },
  {
   "cell_type": "code",
   "execution_count": 26,
   "metadata": {},
   "outputs": [
    {
     "name": "stdout",
     "output_type": "stream",
     "text": [
      "T_small:  0.13224999999998932\n",
      "T_medium: 1.3479999999999936\n",
      "T_large:  13.61570000000001\n"
     ]
    }
   ],
   "source": [
    "# Let's use this function on lists of different sizes\n",
    "small  = 10000\n",
    "medium = 100000\n",
    "large  = 1000000\n",
    "\n",
    "T_small  = avg_millis_to_test_for_non_existent_el(small)\n",
    "T_medium = avg_millis_to_test_for_non_existent_el(medium)\n",
    "T_large  = avg_millis_to_test_for_non_existent_el(large)\n",
    "\n",
    "print(\"T_small: \", T_small)\n",
    "print(\"T_medium:\", T_medium)\n",
    "print(\"T_large: \", T_large)"
   ]
  },
  {
   "cell_type": "markdown",
   "metadata": {},
   "source": [
    "Once again, we see that there IS a relationship... \n",
    "\n",
    "Let's make another scatter plot."
   ]
  },
  {
   "cell_type": "code",
   "execution_count": null,
   "metadata": {
    "collapsed": true
   },
   "outputs": [],
   "source": [
    "sizes = list(range(100000, 1000000, 100000))\n",
    "times = [avg_millis_to_test_for_non_existent_el(s) for s in sizes]\n",
    "plt.scatter(sizes, times)\n",
    "plt.xlabel(\"List Size\")\n",
    "plt.ylabel(\"Avg Millis\")\n",
    "plt.show()"
   ]
  },
  {
   "cell_type": "markdown",
   "metadata": {
    "collapsed": true
   },
   "source": [
    "### Answer to Question 2\n",
    "Yes! When checking for membership of an element in a list, itt takes longer to figure out an element **doesn't** exist in that list when the list is big.\n",
    "\n",
    "### Next Steps\n",
    "Either continue on or keep exploring more about lists and timing. If you do keep exploring and you find anything interesting be sure to share it in the group Slack channel!"
   ]
  },
  {
   "cell_type": "code",
   "execution_count": null,
   "metadata": {
    "collapsed": true
   },
   "outputs": [],
   "source": [
    "# TODO (optional) - keep exploring! "
   ]
  }
 ],
 "metadata": {
  "kernelspec": {
   "display_name": "Python 3",
   "language": "python",
   "name": "python3"
  },
  "language_info": {
   "codemirror_mode": {
    "name": "ipython",
    "version": 3
   },
   "file_extension": ".py",
   "mimetype": "text/x-python",
   "name": "python",
   "nbconvert_exporter": "python",
   "pygments_lexer": "ipython3",
   "version": "3.6.3"
  }
 },
 "nbformat": 4,
 "nbformat_minor": 2
}
