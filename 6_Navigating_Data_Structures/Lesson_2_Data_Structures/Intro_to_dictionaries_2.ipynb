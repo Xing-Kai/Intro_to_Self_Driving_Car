{
 "cells": [
  {
   "cell_type": "markdown",
   "metadata": {},
   "source": [
    "# Introduction to Dictionaries 2\n",
    "\n",
    "Dictionaries can be especially useful when used to represent larger chunks of related data. The image below shows a more realistic \"ticket\" from the ticketing software known as Jira. \n",
    "\n",
    "Take a look!\n",
    "\n",
    "![Jira Ticket](https://d17h27t6h515a5.cloudfront.net/topher/2017/November/59fb6ccd_jira-ticket/jira-ticket.png)"
   ]
  },
  {
   "cell_type": "code",
   "execution_count": 1,
   "metadata": {},
   "outputs": [
    {
     "name": "stdout",
     "output_type": "stream",
     "text": [
      "The keys for this dictionary are...\n"
     ]
    },
    {
     "data": {
      "text/plain": [
       "dict_keys(['type', 'status', 'priority', 'resolution', 'description', 'attachments', 'people', 'dates'])"
      ]
     },
     "execution_count": 1,
     "metadata": {},
     "output_type": "execute_result"
    }
   ],
   "source": [
    "# Note how the structure of a ticket is captured in the\n",
    "\n",
    "\n",
    "ticket = {\n",
    "    \"type\" : \"bug\",\n",
    "    \"status\": \"done\",\n",
    "    \"priority\": \"medium\",\n",
    "    \"resolution\": \"done\",\n",
    "    \"description\" : \"testing 123\",\n",
    "    \"attachments\" : [],\n",
    "    \"people\": {\n",
    "        \"assignee\" : None,\n",
    "        \"reporter\" : {\n",
    "            \"name\" : \"Andy Brown\",\n",
    "            \"image\": \"www.example_image_url.com\"\n",
    "        },\n",
    "        \"votes\" : 0,\n",
    "        \"watchers\" : [\n",
    "            {\n",
    "                \"name\": \"Andy Brown\",\n",
    "                \"image\": \"www.example_image_url.com\"  \n",
    "            }\n",
    "        ]\n",
    "    },\n",
    "    \"dates\" : {\n",
    "        \"created\" : \"6 days ago\",\n",
    "        \"updated\" : \"6 days ago\",\n",
    "        \"resolved\": \"6 days ago\"\n",
    "    }\n",
    "}\n",
    "\n",
    "# In this example, ticket is a dictionary with the following \"keys\":\n",
    "\n",
    "print(\"The keys for this dictionary are...\")\n",
    "ticket.keys()"
   ]
  },
  {
   "cell_type": "code",
   "execution_count": 2,
   "metadata": {},
   "outputs": [
    {
     "data": {
      "text/plain": [
       "'Andy Brown'"
      ]
     },
     "execution_count": 2,
     "metadata": {},
     "output_type": "execute_result"
    }
   ],
   "source": [
    "# notice how nicely the following code reads... \n",
    "\n",
    "ticket['people']['reporter']['name']"
   ]
  },
  {
   "cell_type": "code",
   "execution_count": 3,
   "metadata": {},
   "outputs": [
    {
     "name": "stdout",
     "output_type": "stream",
     "text": [
      "there are 250 big tickets\n"
     ]
    }
   ],
   "source": [
    "# let's pull in a bunch of \"dummy\" data\n",
    "\n",
    "from sample_data import big_tickets\n",
    "import random\n",
    "\n",
    "print(\"there are\", len(big_tickets), \"big tickets\")"
   ]
  },
  {
   "cell_type": "code",
   "execution_count": 4,
   "metadata": {},
   "outputs": [
    {
     "data": {
      "text/plain": [
       "{'attachments': [],\n",
       " 'dates': {'created': '6 days ago',\n",
       "  'resolved': '6 days ago',\n",
       "  'updated': '6 days ago'},\n",
       " 'description': 'testing 123',\n",
       " 'people': {'assignee': None,\n",
       "  'reporter': {'image': 'www.example_image_url.com', 'name': 'Andy Brown'},\n",
       "  'votes': 0,\n",
       "  'watchers': [{'image': 'www.example_image_url.com',\n",
       "    'name': 'Cezanne Camacho'},\n",
       "   {'image': 'www.example_image_url.com', 'name': 'Andrew Paster'},\n",
       "   {'image': 'www.example_image_url.com', 'name': 'Kagure Kabue'}]},\n",
       " 'priority': 'medium',\n",
       " 'resolution': 'done',\n",
       " 'status': 'done',\n",
       " 'type': 'bug'}"
      ]
     },
     "execution_count": 4,
     "metadata": {},
     "output_type": "execute_result"
    }
   ],
   "source": [
    "# grab a random ticket and take a look at it\n",
    "\n",
    "random_ticket = random.choice(big_tickets)\n",
    "random_ticket"
   ]
  },
  {
   "cell_type": "markdown",
   "metadata": {},
   "source": [
    "## TODO - Exercise - Find all tickets with 8 or more watchers\n",
    "\n",
    "Lists and dictionaries can work together nicely. Notice how in the random ticket shown above the `people` field is a dictionary. That dictionary contains additional data including a `watchers` key whose associated value is a list. \n",
    "\n",
    "In this exercise you will filter a list of 250 tickets (which are each a dictionary) down to a smaller list of only the most popular tickets (as defined by number of watchers)."
   ]
  },
  {
   "cell_type": "code",
   "execution_count": 5,
   "metadata": {},
   "outputs": [
    {
     "ename": "AssertionError",
     "evalue": "",
     "output_type": "error",
     "traceback": [
      "\u001b[0;31m---------------------------------------------------------------------------\u001b[0m",
      "\u001b[0;31mAssertionError\u001b[0m                            Traceback (most recent call last)",
      "\u001b[0;32m<ipython-input-5-8ceb2a9ccfa5>\u001b[0m in \u001b[0;36m<module>\u001b[0;34m()\u001b[0m\n\u001b[1;32m     19\u001b[0m \u001b[0;34m\u001b[0m\u001b[0m\n\u001b[1;32m     20\u001b[0m \u001b[0;32mfor\u001b[0m \u001b[0mticket\u001b[0m \u001b[0;32min\u001b[0m \u001b[0mpopular\u001b[0m\u001b[0;34m:\u001b[0m\u001b[0;34m\u001b[0m\u001b[0m\n\u001b[0;32m---> 21\u001b[0;31m     \u001b[0;32massert\u001b[0m\u001b[0;34m(\u001b[0m \u001b[0mlen\u001b[0m\u001b[0;34m(\u001b[0m\u001b[0mticket\u001b[0m\u001b[0;34m[\u001b[0m\u001b[0;34m'people'\u001b[0m\u001b[0;34m]\u001b[0m\u001b[0;34m[\u001b[0m\u001b[0;34m'watchers'\u001b[0m\u001b[0;34m]\u001b[0m\u001b[0;34m)\u001b[0m \u001b[0;34m>=\u001b[0m \u001b[0;36m8\u001b[0m \u001b[0;34m)\u001b[0m\u001b[0;34m\u001b[0m\u001b[0m\n\u001b[0m\u001b[1;32m     22\u001b[0m \u001b[0;34m\u001b[0m\u001b[0m\n\u001b[1;32m     23\u001b[0m \u001b[0mprint\u001b[0m\u001b[0;34m(\u001b[0m\u001b[0;34m\"Nice job! It looks like your function is working.\"\u001b[0m\u001b[0;34m)\u001b[0m\u001b[0;34m\u001b[0m\u001b[0m\n",
      "\u001b[0;31mAssertionError\u001b[0m: "
     ]
    }
   ],
   "source": [
    "def get_popular_tickets(tickets):\n",
    "    \"\"\"\n",
    "    From a list of tickets, fetch all the tickets with 8 or \n",
    "    more \"watchers\". \n",
    "    \"\"\"\n",
    "    popular_tickets = []\n",
    "    #\n",
    "    # TODO - your code here\n",
    "    # \n",
    "    for ticket in tickets:\n",
    "        if len(ticket['people']['watchers']) >= 8:\n",
    "            popular_tickets.append(ticket)\n",
    "    return popular_tickets\n",
    "\n",
    "popular = get_popular_tickets(big_tickets)\n",
    "\n",
    "# TESTING CODE \n",
    "assert( len(popular) > 0 ) # must be at least one popular ticket\n",
    "\n",
    "for ticket in popular:\n",
    "    assert( len(ticket['people']['watchers']) >= 8 )\n",
    "    \n",
    "print(\"Nice job! It looks like your function is working.\")"
   ]
  },
  {
   "cell_type": "code",
   "execution_count": null,
   "metadata": {
    "collapsed": true
   },
   "outputs": [],
   "source": [
    "#\n",
    "\n",
    "#\n",
    "\n",
    "#\n",
    "\n",
    "#\n",
    "\n",
    "#\n",
    "\n",
    "# Spoiler alert! Try to avoid looking at the solution until you've\n",
    "# attempted the problem yourself.\n",
    "\n",
    "#\n",
    "\n",
    "#\n",
    "\n",
    "#\n",
    "def get_popular_tickets_solution(tickets):\n",
    "    \"\"\"\n",
    "    From a list of tickets, fetch all the tickets with 8 or \n",
    "    more \"watchers\". \n",
    "    \"\"\"\n",
    "    popular_tickets = []\n",
    "    for ticket in tickets:\n",
    "        num_watchers = len(ticket['people']['watchers'])\n",
    "        if num_watchers >= 8:\n",
    "            popular_tickets.append(ticket)\n",
    "    return popular_tickets  "
   ]
  }
 ],
 "metadata": {
  "kernelspec": {
   "display_name": "Python 3",
   "language": "python",
   "name": "python3"
  },
  "language_info": {
   "codemirror_mode": {
    "name": "ipython",
    "version": 3
   },
   "file_extension": ".py",
   "mimetype": "text/x-python",
   "name": "python",
   "nbconvert_exporter": "python",
   "pygments_lexer": "ipython3",
   "version": "3.6.3"
  }
 },
 "nbformat": 4,
 "nbformat_minor": 2
}
