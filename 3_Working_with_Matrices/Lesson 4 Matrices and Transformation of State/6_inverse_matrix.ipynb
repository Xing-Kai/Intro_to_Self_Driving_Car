{
 "cells": [
  {
   "cell_type": "markdown",
   "metadata": {},
   "source": [
    "# Matrix Inverse\n",
    "\n",
    "In this exercise, you will write a function to calculate the inverse of either a 1x1 or a 2x2 matrix."
   ]
  },
  {
   "cell_type": "code",
   "execution_count": 7,
   "metadata": {},
   "outputs": [],
   "source": [
    "### TODO: Write a function called inverse_matrix() that \n",
    "###       receives a matrix and outputs the inverse\n",
    "###       \n",
    "###       You are provided with start code that checks\n",
    "###       if the matrix is square and if not, throws an error\n",
    "###\n",
    "###       You will also need to check the size of the matrix.\n",
    "###       The formula for a 1x1 matrix and 2x2 matrix are different,\n",
    "###       so your solution will need to take this into account.\n",
    "###\n",
    "###       If the user inputs a non-invertible 2x2 matrix or a matrix\n",
    "###       of size 3 x 3 or greater, the function should raise an\n",
    "###       error. A non-invertible\n",
    "###       2x2 matrix has ad-bc = 0 as discussed in the lesson\n",
    "###\n",
    "###       Python has various options for raising errors\n",
    "###       raise RuntimeError('this is the error message')\n",
    "###       raise NotImplementedError('this functionality is not implemented')\n",
    "###       raise ValueError('The denominator of a fraction cannot be zero')\n",
    "def identity_matrix(n):\n",
    "    \n",
    "    identity = []\n",
    "    \n",
    "    # TODO: Write a nested for loop to iterate over the rows and\n",
    "    # columns of the identity matrix. Remember that identity\n",
    "    # matrices are square so they have the same number of rows\n",
    "    # and columns\n",
    "    for i in range(n):\n",
    "        row_result = []\n",
    "        for j in range(n):\n",
    "            if i == j:\n",
    "                row_result.append(1)\n",
    "            else:\n",
    "                row_result.append(0)\n",
    "        identity.append(row_result)\n",
    "    # Make sure to assign 1 to the diagonal values and 0 everywhere\n",
    "    # else\n",
    "    \n",
    "    return identity\n",
    "\n",
    "def inverse_matrix(matrix):\n",
    "    \n",
    "    inverse = identity_matrix(len(matrix))\n",
    "    \n",
    "    if len(matrix) != len(matrix[0]):\n",
    "        raise ValueError('The matrix must be square')\n",
    "    \n",
    "    ## TODO: Check if matrix is larger than 2x2.\n",
    "    ## If matrix is too large, then raise an error\n",
    "    if len(matrix) > 2:\n",
    "        raise ValueError('The matrix is too large')\n",
    "    \n",
    "    ## TODO: Check if matrix is 1x1 or 2x2.\n",
    "    ## Depending on the matrix size, the formula for calculating\n",
    "    ## the inverse is different\n",
    "    if len(matrix) == 1:\n",
    "        inverse[0][0] = 1 / matrix[0][0]\n",
    "    elif len(matrix) == 2:\n",
    "        detA = matrix[0][0] * matrix[1][1] - matrix[0][1] * matrix[1][0]\n",
    "        #trA = matrix[0][0] + matrix[1][1]\n",
    "        if detA == 0:\n",
    "            raise ValueError('The matrix has no inverse matrix')\n",
    "        else:\n",
    "            inverse[0][0] = (1 / detA) * matrix[1][1]\n",
    "            inverse[0][1] = (-1 / detA) * matrix[0][1]\n",
    "            inverse[1][0] = (-1 / detA) * matrix[1][0]\n",
    "            inverse[1][1] = (1 / detA) * matrix[0][0]\n",
    "            \n",
    "                    \n",
    "    ## TODO: Calculate the inverse of the square 1x1 or 2x2 matrix.\n",
    "    \n",
    "    return inverse\n",
    "    \n",
    "    "
   ]
  },
  {
   "cell_type": "code",
   "execution_count": 4,
   "metadata": {},
   "outputs": [],
   "source": [
    "## TODO: Run this cell to check your output. If this cell does \n",
    "## not output anything your answers were as expected.\n",
    "\n",
    "assert inverse_matrix([[100]]) == [[0.01]]\n",
    "assert inverse_matrix([[4, 5], [7, 1]]) == [[-0.03225806451612903, 0.16129032258064516],\n",
    " [0.22580645161290322, -0.12903225806451613]]"
   ]
  },
  {
   "cell_type": "code",
   "execution_count": 5,
   "metadata": {},
   "outputs": [
    {
     "ename": "ValueError",
     "evalue": "The matrix has no inverse matrix",
     "output_type": "error",
     "traceback": [
      "\u001b[0;31m---------------------------------------------------------------------------\u001b[0m",
      "\u001b[0;31mValueError\u001b[0m                                Traceback (most recent call last)",
      "\u001b[0;32m<ipython-input-5-a57ce83b3ae1>\u001b[0m in \u001b[0;36m<module>\u001b[0;34m()\u001b[0m\n\u001b[1;32m      1\u001b[0m \u001b[0;31m### Run this line of code and see what happens. Because ad = bc, this\u001b[0m\u001b[0;34m\u001b[0m\u001b[0;34m\u001b[0m\u001b[0m\n\u001b[1;32m      2\u001b[0m \u001b[0;31m### matrix does not have an inverse\u001b[0m\u001b[0;34m\u001b[0m\u001b[0;34m\u001b[0m\u001b[0m\n\u001b[0;32m----> 3\u001b[0;31m \u001b[0minverse_matrix\u001b[0m\u001b[0;34m(\u001b[0m\u001b[0;34m[\u001b[0m\u001b[0;34m[\u001b[0m\u001b[0;36m4\u001b[0m\u001b[0;34m,\u001b[0m \u001b[0;36m2\u001b[0m\u001b[0;34m]\u001b[0m\u001b[0;34m,\u001b[0m \u001b[0;34m[\u001b[0m\u001b[0;36m14\u001b[0m\u001b[0;34m,\u001b[0m \u001b[0;36m7\u001b[0m\u001b[0;34m]\u001b[0m\u001b[0;34m]\u001b[0m\u001b[0;34m)\u001b[0m\u001b[0;34m\u001b[0m\u001b[0m\n\u001b[0m",
      "\u001b[0;32m<ipython-input-3-7a1f6286c4bc>\u001b[0m in \u001b[0;36minverse_matrix\u001b[0;34m(matrix)\u001b[0m\n\u001b[1;32m     60\u001b[0m         \u001b[0;31m#trA = matrix[0][0] + matrix[1][1]\u001b[0m\u001b[0;34m\u001b[0m\u001b[0;34m\u001b[0m\u001b[0m\n\u001b[1;32m     61\u001b[0m         \u001b[0;32mif\u001b[0m \u001b[0mdetA\u001b[0m \u001b[0;34m==\u001b[0m \u001b[0;36m0\u001b[0m\u001b[0;34m:\u001b[0m\u001b[0;34m\u001b[0m\u001b[0m\n\u001b[0;32m---> 62\u001b[0;31m             \u001b[0;32mraise\u001b[0m \u001b[0mValueError\u001b[0m\u001b[0;34m(\u001b[0m\u001b[0;34m'The matrix has no inverse matrix'\u001b[0m\u001b[0;34m)\u001b[0m\u001b[0;34m\u001b[0m\u001b[0m\n\u001b[0m\u001b[1;32m     63\u001b[0m         \u001b[0;32melse\u001b[0m\u001b[0;34m:\u001b[0m\u001b[0;34m\u001b[0m\u001b[0m\n\u001b[1;32m     64\u001b[0m             \u001b[0minverse\u001b[0m\u001b[0;34m[\u001b[0m\u001b[0;36m0\u001b[0m\u001b[0;34m]\u001b[0m\u001b[0;34m[\u001b[0m\u001b[0;36m0\u001b[0m\u001b[0;34m]\u001b[0m \u001b[0;34m=\u001b[0m \u001b[0;34m(\u001b[0m\u001b[0;36m1\u001b[0m \u001b[0;34m/\u001b[0m \u001b[0mdetA\u001b[0m\u001b[0;34m)\u001b[0m \u001b[0;34m*\u001b[0m \u001b[0mmatrix\u001b[0m\u001b[0;34m[\u001b[0m\u001b[0;36m1\u001b[0m\u001b[0;34m]\u001b[0m\u001b[0;34m[\u001b[0m\u001b[0;36m1\u001b[0m\u001b[0;34m]\u001b[0m\u001b[0;34m\u001b[0m\u001b[0m\n",
      "\u001b[0;31mValueError\u001b[0m: The matrix has no inverse matrix"
     ]
    }
   ],
   "source": [
    "### Run this line of code and see what happens. Because ad = bc, this\n",
    "### matrix does not have an inverse\n",
    "inverse_matrix([[4, 2], [14, 7]])"
   ]
  },
  {
   "cell_type": "code",
   "execution_count": 8,
   "metadata": {},
   "outputs": [
    {
     "data": {
      "text/plain": [
       "[[0.3333333333333333]]"
      ]
     },
     "execution_count": 8,
     "metadata": {},
     "output_type": "execute_result"
    }
   ],
   "source": [
    "### Run this line of code and see what happens. This is a 3x3 matrix\n",
    "#inverse_matrix([[4, 5, 1], [2, 9, 7], [6, 3, 9]])\n",
    "inverse_matrix([[3]])"
   ]
  }
 ],
 "metadata": {
  "kernelspec": {
   "display_name": "Python 3",
   "language": "python",
   "name": "python3"
  },
  "language_info": {
   "codemirror_mode": {
    "name": "ipython",
    "version": 3
   },
   "file_extension": ".py",
   "mimetype": "text/x-python",
   "name": "python",
   "nbconvert_exporter": "python",
   "pygments_lexer": "ipython3",
   "version": "3.6.3"
  }
 },
 "nbformat": 4,
 "nbformat_minor": 2
}
